{
 "cells": [
  {
   "cell_type": "code",
   "execution_count": 1,
   "id": "9455fe32",
   "metadata": {},
   "outputs": [],
   "source": [
    "# %load preprocessing.py\n",
    "import numpy as np\n",
    "import pickle as pkl\n",
    "import os, sys, sparse\n",
    "from util import atomFeatures, bondFeatures2\n",
    "from rdkit import Chem, RDConfig, rdBase\n",
    "from rdkit.Chem import AllChem, ChemicalFeatures\n",
    "from sklearn.metrics.pairwise import euclidean_distances\n",
    "import pandas as pds\n",
    "import save_dict as sd\n",
    "from API import get_mpnn_input"
   ]
  },
  {
   "cell_type": "code",
   "execution_count": 2,
   "id": "1321c10f",
   "metadata": {},
   "outputs": [],
   "source": [
    "from sklearn.feature_selection import VarianceThreshold"
   ]
  },
  {
   "cell_type": "code",
   "execution_count": 3,
   "id": "a7260512",
   "metadata": {},
   "outputs": [],
   "source": [
    "index_dict,pu_dict,pair_atom_dict,adj_list,structure,n_max,feature,pu_feature = get_mpnn_input('polymer.csv','polymer.sdf')"
   ]
  },
  {
   "cell_type": "code",
   "execution_count": 8,
   "id": "e0dba773",
   "metadata": {},
   "outputs": [],
   "source": [
    "pu_feature = pds.DataFrame(pu_feature).T"
   ]
  },
  {
   "cell_type": "code",
   "execution_count": 9,
   "id": "b7bad46b",
   "metadata": {},
   "outputs": [],
   "source": [
    "dim_node = 167"
   ]
  },
  {
   "cell_type": "code",
   "execution_count": 10,
   "id": "44537882",
   "metadata": {},
   "outputs": [],
   "source": [
    "#对浮点数四舍五入\n",
    "def get_int(num):\n",
    "    num1, num2 = str(num).split('.')\n",
    "    if float(str(0) + '.' + num2) >= 0.5:\n",
    "        return(int(num1) + 1)\n",
    "    else:\n",
    "        return(int(num1))"
   ]
  },
  {
   "cell_type": "code",
   "execution_count": null,
   "id": "ac41a44f",
   "metadata": {},
   "outputs": [],
   "source": [
    "dim_edge=8\n",
    "atom_list=['Se','H','Li','B','C','N','O','F','Na','Mg','Si','P','S','Cl','K','Ca','Br','Bi','Ge']\n",
    "DV = []\n",
    "DE = []\n",
    "DP = [] \n",
    "DY = []\n",
    "Dsmi = []\n",
    "for i, mol in enumerate(structure):\n",
    "    name = mol.GetProp('_Name')#单体的名称\n",
    "    num_index = list(pu_dict[name].values())#节点的种类\n",
    "    num_node = len(num_index)#每个单体中节点的个数\n",
    "    node_name = list(pu_dict[name].keys())#节点的编号\n",
    "    pair_atom = pair_atom_dict[name]\n",
    "    if mol==None: continue\n",
    "    try: Chem.SanitizeMol(mol)\n",
    "    except: continue\n",
    "    smi = Chem.MolToSmiles(mol)\n",
    "    if '.' in Chem.MolToSmiles(mol): continue\n",
    "    n_atom = mol.GetNumAtoms()\n",
    "    rings = mol.GetRingInfo().AtomRings()\n",
    "    \n",
    "    # node DV\n",
    "    node = np.zeros((n_max, dim_node), dtype=np.int8)\n",
    "    for j in range(num_node):\n",
    "        index = num_index[j]\n",
    "        node[j, :] = pu_feature.loc[index]\n",
    "        \n",
    "     # 3D pos DP\n",
    "    pos = mol.GetConformer().GetPositions()\n",
    "    pos_array = np.array(pos)\n",
    "    node_ave = []\n",
    "    for j in range(num_node):\n",
    "        index = node_name[j]\n",
    "        atom_num = index_dict[name][index]\n",
    "        pu_pos = pos_array[atom_num]\n",
    "        ave_pos = pos_array[atom_num].mean(axis=0)\n",
    "        node_ave.append(ave_pos)\n",
    "        \n",
    "    node_pos = np.array(node_ave)\n",
    "    proximity = np.zeros((n_max, n_max))\n",
    "    proximity[:num_node, :num_node] = euclidean_distances(node_pos)\n",
    "    \n",
    "    # property DY \n",
    "    pid = np.where(feature[:,0]==mol.GetProp('_Name'))[0][0]\n",
    "    property = feature[pid,1:]\n",
    "\n",
    "    ##edge DE\n",
    "    adj = adj_list[i]\n",
    "    node_bond = get_int(sum(sum(adj))/2)\n",
    "    pair_index = pair_atom['pair_index']\n",
    "    atom_pair = pair_atom['pair_atom']\n",
    "    num_pair = len(atom_pair)\n",
    "    \n",
    "    \n",
    "    edge = np.zeros((n_max,n_max,dim_edge),dtype=np.float32)\n",
    "    for j in range(num_node-1):\n",
    "        for k in range(num_node):\n",
    "            if adj[j,k]==1:\n",
    "                j_name=node_name[j]\n",
    "                k_name=node_name[k]\n",
    "                j_index=num_index[j]\n",
    "                k_index=num_index[k]\n",
    "                pair1=[j_name,k_name]\n",
    "                pair2=[k_name,j_name]\n",
    "                if pair1 in pair_index:   \n",
    "                    locat = pair_index.index(pair1)\n",
    "                elif pair2 in pair_index:\n",
    "                    locat = pair_index.index(pair2)\n",
    "                else:\n",
    "                    #print(\"Index_error: {} no found\".format(pair1))\n",
    "                    continue\n",
    "                pair = atom_pair[locat]\n",
    "                edge[j,k,:6] = bondFeatures2(pos,pair[0],pair[1], mol, rings)\n",
    "                edge[j,k,6] = j_index*0.01\n",
    "                edge[j,k,7] = k_index*0.01\n",
    "                edge[k, j, :] = edge[j, k, :]\n",
    "    \n",
    "    # append\n",
    "    DV.append(np.array(node))\n",
    "    DE.append(np.array(edge))\n",
    "    DP.append(np.array(proximity))\n",
    "    DY.append(np.array(property,dtype = np.float64))\n",
    "    Dsmi.append(smi)\n",
    "    \n",
    "    if i % 50 == 0:\n",
    "        print(i, Chem.MolToSmiles(Chem.RemoveHs(mol)), flush=True)"
   ]
  },
  {
   "cell_type": "code",
   "execution_count": 12,
   "id": "c24d1606",
   "metadata": {},
   "outputs": [
    {
     "name": "stdout",
     "output_type": "stream",
     "text": [
      "(697, 20, 167) (697, 20, 20, 8) (697, 20, 20) (697, 4)\n"
     ]
    }
   ],
   "source": [
    "# np array    \n",
    "DV = np.asarray(DV, dtype=np.int8)\n",
    "DE = np.asarray(DE, dtype=np.int8)\n",
    "DP = np.asarray(DP)\n",
    "DY = np.asarray(DY)\n",
    "Dsmi = np.asarray(Dsmi)\n",
    "\n",
    "# compression\n",
    "DV = sparse.COO.from_numpy(DV)\n",
    "DE = sparse.COO.from_numpy(DE)\n",
    "\n",
    "print(DV.shape, DE.shape, DP.shape, DY.shape)\n",
    "\n",
    "# save\n",
    "with open('MACCS.pkl','wb') as fw:\n",
    "    pkl.dump([DV, DE, DP, DY, Dsmi], fw)"
   ]
  }
 ],
 "metadata": {
  "kernelspec": {
   "display_name": "Python 3 (ipykernel)",
   "language": "python",
   "name": "python3"
  },
  "language_info": {
   "codemirror_mode": {
    "name": "ipython",
    "version": 3
   },
   "file_extension": ".py",
   "mimetype": "text/x-python",
   "name": "python",
   "nbconvert_exporter": "python",
   "pygments_lexer": "ipython3",
   "version": "3.9.13"
  }
 },
 "nbformat": 4,
 "nbformat_minor": 5
}
